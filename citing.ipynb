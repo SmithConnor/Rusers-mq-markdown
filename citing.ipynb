{
  "cells": [
    {
      "cell_type": "markdown",
      "metadata": {},
      "source": [
        "# Citing\n",
        "\n",
        "## Section Outline\n",
        "\n",
        "The section will assist you with including citations and referencing in your document.\n",
        "\n",
        "**Teaching Time:** 10 Minutes\n",
        "\n",
        "**Working Time:** 5 Minutes\n",
        "\n",
        "## Bibliography\n",
        "\n",
        "If you are still deciding of a referencing pipeline, I would suggest **Zotero** and **Better Bibtex** *(More information can be provided outside this workshop)*.\n",
        "\n",
        "In your YAML header you need to define your bibliography file i.e.\n",
        "\n",
        "\n",
        "```{YAML}\n",
        "#| eval: false\n",
        "output: html_document\n",
        "bibliography: refs.bib\n",
        "```\n",
        "\n",
        "\n",
        "and then you are able to define your citation style:\n",
        "\n",
        "\n",
        "```{YAML}\n",
        "#| eval: false\n",
        "output: html_document\n",
        "bibliography: refs.bib\n",
        "csl: apa.csl\n",
        "```"
      ],
      "id": "b39761c3"
    }
  ],
  "metadata": {
    "kernelspec": {
      "display_name": "Python 3",
      "language": "python",
      "name": "python3"
    }
  },
  "nbformat": 4,
  "nbformat_minor": 5
}